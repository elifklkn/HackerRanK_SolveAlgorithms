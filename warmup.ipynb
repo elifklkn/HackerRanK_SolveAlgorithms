{
 "cells": [
  {
   "cell_type": "markdown",
   "metadata": {},
   "source": [
    "**A Very Big Sum**\n",
    "\n",
    "* Complete the 'aVeryBigSum' function below.\n",
    "\n",
    "* The function is expected to return a LONG_INTEGER.\n",
    "* he function accepts LONG_INTEGER_ARRAY ar as parameter.\n"
   ]
  },
  {
   "cell_type": "code",
   "execution_count": null,
   "metadata": {},
   "outputs": [],
   "source": [
    "def aVeryBigSum(ar):\n",
    "    return sum(ar)\n",
    "\n",
    "if __name__ == '__main__':\n",
    "    fptr = open(os.environ['OUTPUT_PATH'], 'w')\n",
    "\n",
    "    ar_count = int(input().strip())\n",
    "\n",
    "    ar = list(map(int, input().rstrip().split()))\n",
    "\n",
    "    result = aVeryBigSum(ar)\n",
    "\n",
    "    fptr.write(str(result) + '\\n')\n",
    "\n",
    "    fptr.close()"
   ]
  },
  {
   "cell_type": "markdown",
   "metadata": {},
   "source": [
    "**Solve Me First**\n",
    "\n",
    "* Complete the solveMeFirst function in the editor below.\n",
    "\n",
    "* solveMeFirst has the following parameters:\n",
    "\n",
    "int a: the first value\n",
    "int b: the second value\n",
    "Returns\n",
    "- int: the sum of a and b"
   ]
  },
  {
   "cell_type": "code",
   "execution_count": null,
   "metadata": {},
   "outputs": [],
   "source": [
    "def solveMeFirst(a,b):\n",
    "\t# Hint: Type return a+b below\n",
    "    return a + b\n",
    "\n",
    "num1 = int(input())\n",
    "num2 = int(input())\n",
    "res = solveMeFirst(num1,num2)\n",
    "print(res)"
   ]
  },
  {
   "cell_type": "markdown",
   "metadata": {},
   "source": [
    "**Compare the Triplets**\n",
    "\n",
    "* Complete the 'compareTriplets' function below.\n",
    "* The function is expected to return an INTEGER_ARRAY.\n",
    "* The function accepts following parameters:\n",
    "*  1. INTEGER_ARRAY a\n",
    "*  2. INTEGER_ARRAY b"
   ]
  },
  {
   "cell_type": "code",
   "execution_count": null,
   "metadata": {},
   "outputs": [],
   "source": [
    "def compareTriplets(a, b):\n",
    "    index = 0\n",
    "    Alice_total = 0\n",
    "    Bob_total = 0\n",
    "    while index < 3:\n",
    "        if a[index] > b[index]:\n",
    "            Alice_total += 1\n",
    "        elif a[index] < b[index]:\n",
    "            Bob_total += 1\n",
    "        else:\n",
    "            print(\"no one score\")\n",
    "        index += 1\n",
    "    sonuc = [Alice_total,Bob_total]\n",
    "    return sonuc\n",
    "    # Write your code here\n",
    "\n",
    "if __name__ == '__main__':\n",
    "\n",
    "    a=[5,6,7]\n",
    "    b=[3,6,10]\n",
    "    result = compareTriplets(a, b)\n",
    "    print(result)"
   ]
  },
  {
   "cell_type": "markdown",
   "metadata": {},
   "source": [
    "**Plus Minus**\n",
    "\n",
    "* Given an array of integers, calculate the ratios of its elements that are positive, negative, and zero. Print the decimal value of each fraction on a new line with 6 places after the decimal"
   ]
  },
  {
   "cell_type": "code",
   "execution_count": null,
   "metadata": {},
   "outputs": [],
   "source": [
    "def plusMinus(arr):\n",
    "    positive = []\n",
    "    negative = []\n",
    "    zero = []\n",
    "    for i in arr:\n",
    "        if i > 0:\n",
    "            positive.append(i)\n",
    "        elif i < 0:\n",
    "            negative.append(i)\n",
    "        else:\n",
    "            zero.append(i)\n",
    "    text =print(f'{len(positive)/len(arr)}\\n{len(negative)/len(arr)}\\n{len(zero)/len(arr)}')\n",
    "    return text\n",
    "\n",
    "if __name__ == '__main__':\n",
    "    \n",
    "\n",
    "    arr = [-4, 3, -9, 0, 4, 1]\n",
    "\n",
    "    plusMinus(arr)\n"
   ]
  },
  {
   "cell_type": "markdown",
   "metadata": {},
   "source": [
    "**Staircase**\n",
    "\n",
    "* This is a staircase of size n= 4:\n",
    "*           #\n",
    "*          ##\n",
    "*         ###\n",
    "*        ####\n",
    " \n",
    "* Its base and height are both equal to . It is drawn using # symbols and spaces. The last line is not preceded by any spaces.\n",
    "\n",
    "* Write a program that prints a staircase of size n ."
   ]
  },
  {
   "cell_type": "code",
   "execution_count": null,
   "metadata": {},
   "outputs": [],
   "source": [
    "def staircase(n):\n",
    "    for i in range(1,n+1):\n",
    "        print(((n-i) * \" \") + (i * \"#\"))\n",
    "       \n",
    "if __name__ == '__main__':\n",
    "    n = int(input().strip())\n",
    "\n",
    "    staircase(n)"
   ]
  },
  {
   "cell_type": "markdown",
   "metadata": {},
   "source": [
    "**Mini-Max Sum**\n",
    "\n",
    "* Given five positive integers, find the minimum and maximum values that can be calculated by summing exactly four of the five integers. Then print the respective minimum and maximum values as a single line of two space-separated long integers."
   ]
  },
  {
   "cell_type": "code",
   "execution_count": null,
   "metadata": {},
   "outputs": [],
   "source": [
    "def miniMaxSum(arr):\n",
    "    en_buyuk = None\n",
    "    en_kucuk = None\n",
    "    for i in arr:\n",
    "        if en_buyuk is None or i > en_buyuk:\n",
    "            en_buyuk = i\n",
    "        if en_kucuk is None or i < en_kucuk:\n",
    "            en_kucuk = i\n",
    "    \n",
    "    arr.remove(en_kucuk)\n",
    "    max_toplam = sum(arr)\n",
    "    arr.append(en_kucuk)\n",
    "    arr.remove(en_buyuk)\n",
    "    min_toplam = sum(arr)\n",
    "    print(min_toplam,max_toplam)\n",
    "\n",
    "if __name__ == '__main__':\n",
    "\n",
    "    arr = [1, 2, 3, 4, 5]\n",
    "\n",
    "    miniMaxSum(arr)\n"
   ]
  },
  {
   "attachments": {},
   "cell_type": "markdown",
   "metadata": {},
   "source": [
    "**Grading Students**\n",
    "\n",
    "* HackerLand University has the following grading policy:\n",
    "Every student receives a grade in the inclusive range from  0 to 100 .Any grade less than 40 is a failing grade\n",
    "Sam is a professor at the university and likes to round each student's  grade according to these rules:\n",
    "- If the difference between the  grade and the next multiple of  5 is less than 3, round grade up to the next multiple of 5 .\n",
    "- If the value grade of  is less than 38 , no rounding occurs as the result will still be a failing grade.\n",
    "\n",
    "Given the initial value of grade for each of Sam's n  students, write code to automate the rounding process."
   ]
  },
  {
   "cell_type": "code",
   "execution_count": null,
   "metadata": {},
   "outputs": [],
   "source": [
    "new_grades = []\n",
    "def gradingStudents(grades):\n",
    "    for i in grades:\n",
    "        if i < 38:\n",
    "            new_grades.append(i)\n",
    "        else: \n",
    "            if  (5 - (i % 5)) < 3:\n",
    "                grade = i + (5 - (i % 5))\n",
    "                new_grades.append(grade)\n",
    "            else:\n",
    "                grade = i\n",
    "                new_grades.append(i)\n",
    "    return new_grades\n"
   ]
  }
 ],
 "metadata": {
  "kernelspec": {
   "display_name": "Python 3.10.4 64-bit",
   "language": "python",
   "name": "python3"
  },
  "language_info": {
   "name": "python",
   "version": "3.10.4"
  },
  "orig_nbformat": 4,
  "vscode": {
   "interpreter": {
    "hash": "adbfaeeece84a087f0b33bf0134063529b2fa355d19f387b4b6552d794964e7d"
   }
  }
 },
 "nbformat": 4,
 "nbformat_minor": 2
}
